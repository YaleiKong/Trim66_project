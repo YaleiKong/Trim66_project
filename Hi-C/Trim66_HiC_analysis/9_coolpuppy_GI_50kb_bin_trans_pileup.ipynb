{
 "cells": [
  {
   "cell_type": "code",
   "execution_count": 1,
   "id": "6eeec4ea",
   "metadata": {},
   "outputs": [],
   "source": [
    "# import standard python libraries\n",
    "import matplotlib as mpl\n",
    "%matplotlib inline\n",
    "mpl.rcParams['figure.dpi'] = 96\n",
    "import numpy as np\n",
    "import matplotlib.pyplot as plt\n",
    "import pandas as pd\n",
    "import seaborn as sns\n",
    "import os, subprocess\n",
    "import warnings\n",
    "warnings.simplefilter(action='ignore', category=FutureWarning)\n"
   ]
  },
  {
   "cell_type": "code",
   "execution_count": 2,
   "id": "2c7ee484",
   "metadata": {},
   "outputs": [],
   "source": [
    "# import libraries for biological data analysis\n",
    "from coolpuppy import coolpup\n",
    "from coolpuppy.lib import numutils\n",
    "from coolpuppy.lib.puputils import divide_pups\n",
    "from coolpuppy import plotpup\n",
    "import cooler\n",
    "import bioframe\n",
    "import cooltools\n",
    "from cooltools import expected_cis, expected_trans\n",
    "from cooltools.lib import plotting"
   ]
  },
  {
   "cell_type": "code",
   "execution_count": 3,
   "id": "5b794a3f",
   "metadata": {},
   "outputs": [],
   "source": [
    "data_dir = '/lustre/home/acct-medlqian/medlqian-loop3/data/Hi_C/20250520_Trim66_HiC_20250609_46G/merged_valid_pairs_cooler_cooltools_output'\n"
   ]
  },
  {
   "cell_type": "code",
   "execution_count": 4,
   "id": "76d1a9f2",
   "metadata": {},
   "outputs": [],
   "source": [
    "Het_clr_50kb = cooler.Cooler(f'{data_dir}/Het/Het.valid_pairs.5000.zoomify.mcool::resolutions/50000')\n"
   ]
  },
  {
   "cell_type": "code",
   "execution_count": 5,
   "id": "78f5c3c8",
   "metadata": {},
   "outputs": [
    {
     "data": {
      "text/html": [
       "<div>\n",
       "<style scoped>\n",
       "    .dataframe tbody tr th:only-of-type {\n",
       "        vertical-align: middle;\n",
       "    }\n",
       "\n",
       "    .dataframe tbody tr th {\n",
       "        vertical-align: top;\n",
       "    }\n",
       "\n",
       "    .dataframe thead th {\n",
       "        text-align: right;\n",
       "    }\n",
       "</style>\n",
       "<table border=\"1\" class=\"dataframe\">\n",
       "  <thead>\n",
       "    <tr style=\"text-align: right;\">\n",
       "      <th></th>\n",
       "      <th>chrom</th>\n",
       "      <th>start</th>\n",
       "      <th>end</th>\n",
       "      <th>name</th>\n",
       "    </tr>\n",
       "  </thead>\n",
       "  <tbody>\n",
       "    <tr>\n",
       "      <th>0</th>\n",
       "      <td>chr1</td>\n",
       "      <td>0</td>\n",
       "      <td>195471971</td>\n",
       "      <td>chr1</td>\n",
       "    </tr>\n",
       "    <tr>\n",
       "      <th>1</th>\n",
       "      <td>chr2</td>\n",
       "      <td>0</td>\n",
       "      <td>182113224</td>\n",
       "      <td>chr2</td>\n",
       "    </tr>\n",
       "    <tr>\n",
       "      <th>2</th>\n",
       "      <td>chr3</td>\n",
       "      <td>0</td>\n",
       "      <td>160039680</td>\n",
       "      <td>chr3</td>\n",
       "    </tr>\n",
       "    <tr>\n",
       "      <th>3</th>\n",
       "      <td>chr4</td>\n",
       "      <td>0</td>\n",
       "      <td>156508116</td>\n",
       "      <td>chr4</td>\n",
       "    </tr>\n",
       "    <tr>\n",
       "      <th>4</th>\n",
       "      <td>chr5</td>\n",
       "      <td>0</td>\n",
       "      <td>151834684</td>\n",
       "      <td>chr5</td>\n",
       "    </tr>\n",
       "    <tr>\n",
       "      <th>...</th>\n",
       "      <td>...</td>\n",
       "      <td>...</td>\n",
       "      <td>...</td>\n",
       "      <td>...</td>\n",
       "    </tr>\n",
       "    <tr>\n",
       "      <th>61</th>\n",
       "      <td>JH584300.1</td>\n",
       "      <td>0</td>\n",
       "      <td>182347</td>\n",
       "      <td>JH584300.1</td>\n",
       "    </tr>\n",
       "    <tr>\n",
       "      <th>62</th>\n",
       "      <td>JH584301.1</td>\n",
       "      <td>0</td>\n",
       "      <td>259875</td>\n",
       "      <td>JH584301.1</td>\n",
       "    </tr>\n",
       "    <tr>\n",
       "      <th>63</th>\n",
       "      <td>JH584302.1</td>\n",
       "      <td>0</td>\n",
       "      <td>155838</td>\n",
       "      <td>JH584302.1</td>\n",
       "    </tr>\n",
       "    <tr>\n",
       "      <th>64</th>\n",
       "      <td>JH584303.1</td>\n",
       "      <td>0</td>\n",
       "      <td>158099</td>\n",
       "      <td>JH584303.1</td>\n",
       "    </tr>\n",
       "    <tr>\n",
       "      <th>65</th>\n",
       "      <td>JH584304.1</td>\n",
       "      <td>0</td>\n",
       "      <td>114452</td>\n",
       "      <td>JH584304.1</td>\n",
       "    </tr>\n",
       "  </tbody>\n",
       "</table>\n",
       "<p>66 rows × 4 columns</p>\n",
       "</div>"
      ],
      "text/plain": [
       "         chrom  start        end        name\n",
       "0         chr1      0  195471971        chr1\n",
       "1         chr2      0  182113224        chr2\n",
       "2         chr3      0  160039680        chr3\n",
       "3         chr4      0  156508116        chr4\n",
       "4         chr5      0  151834684        chr5\n",
       "..         ...    ...        ...         ...\n",
       "61  JH584300.1      0     182347  JH584300.1\n",
       "62  JH584301.1      0     259875  JH584301.1\n",
       "63  JH584302.1      0     155838  JH584302.1\n",
       "64  JH584303.1      0     158099  JH584303.1\n",
       "65  JH584304.1      0     114452  JH584304.1\n",
       "\n",
       "[66 rows x 4 columns]"
      ]
     },
     "metadata": {},
     "output_type": "display_data"
    }
   ],
   "source": [
    "view_df = pd.DataFrame({'chrom': Het_clr_50kb.chromnames,\n",
    "                        'start': 0,\n",
    "                        'end': Het_clr_50kb.chromsizes.values,\n",
    "                        'name': Het_clr_50kb.chromnames}\n",
    "                      )\n",
    "display(view_df)"
   ]
  },
  {
   "cell_type": "code",
   "execution_count": 7,
   "id": "ab664472",
   "metadata": {},
   "outputs": [
    {
     "name": "stdout",
     "output_type": "stream",
     "text": [
      "     chrom1     start1       end1 chrom2     start2       end2\n",
      "0      chr1   92500000   92550000   chr1  173150000  173200000\n",
      "1      chr1   92500000   92550000   chr1  173200000  173250000\n",
      "2      chr1   92500000   92550000   chr1  173250000  173300000\n",
      "3      chr1   92500000   92550000   chr1  174000000  174050000\n",
      "4      chr1   92500000   92550000   chr1  174300000  174350000\n",
      "...     ...        ...        ...    ...        ...        ...\n",
      "1648   chr7  140150000  140200000   chr9   37650000   37700000\n",
      "1649   chr7  140150000  140200000   chr9   39950000   40000000\n",
      "1650   chr9   19650000   19700000   chr9   37650000   37700000\n",
      "1651   chr9   19650000   19700000   chr9   39950000   40000000\n",
      "1652   chr9   37650000   37700000   chr9   39950000   40000000\n",
      "\n",
      "[1653 rows x 6 columns]\n"
     ]
    }
   ],
   "source": [
    "GI_50kb_bins_pairs = pd.read_csv(\"../files/GI_50kb_bins_pairs.bedpe\", sep=\"\\t\", header=None)\n",
    "GI_50kb_bins_pairs.columns = [\n",
    "    \"chrom1\", \"start1\", \"end1\", \"chrom2\", \"start2\", \"end2\", \n",
    "]\n",
    "print(GI_50kb_bins_pairs)"
   ]
  },
  {
   "cell_type": "code",
   "execution_count": 8,
   "id": "183ee543",
   "metadata": {},
   "outputs": [
    {
     "name": "stderr",
     "output_type": "stream",
     "text": [
      "/lustre/home/acct-medlqian/medlqian-loop3/.conda/envs/coolpup/lib/python3.11/site-packages/coolpuppy/coolpup.py:2156: UserWarning: Ignoring maxdist when using trans\n",
      "  CC = CoordCreator(\n",
      "INFO:coolpuppy:('chr1', 'chr2'): 30\n",
      "INFO:coolpuppy:('chr1', 'chr3'): 12\n",
      "INFO:coolpuppy:('chr1', 'chr4'): 42\n",
      "INFO:coolpuppy:('chr1', 'chr6'): 18\n",
      "INFO:coolpuppy:('chr1', 'chr7'): 54\n",
      "INFO:coolpuppy:('chr1', 'chr9'): 18\n",
      "INFO:coolpuppy:('chr1', 'chr10'): 18\n",
      "INFO:coolpuppy:('chr1', 'chr11'): 48\n",
      "INFO:coolpuppy:('chr1', 'chr13'): 12\n",
      "INFO:coolpuppy:('chr1', 'chr14'): 24\n",
      "INFO:coolpuppy:('chr1', 'chr15'): 6\n",
      "INFO:coolpuppy:('chr1', 'chr16'): 12\n",
      "INFO:coolpuppy:('chr1', 'chr17'): 6\n",
      "INFO:coolpuppy:('chr1', 'chr19'): 12\n",
      "INFO:coolpuppy:('chr2', 'chr3'): 10\n",
      "INFO:coolpuppy:('chr2', 'chr4'): 35\n",
      "INFO:coolpuppy:('chr2', 'chr6'): 15\n",
      "INFO:coolpuppy:('chr2', 'chr7'): 45\n",
      "INFO:coolpuppy:('chr2', 'chr9'): 14\n",
      "INFO:coolpuppy:('chr2', 'chr10'): 15\n",
      "INFO:coolpuppy:('chr2', 'chr11'): 40\n",
      "INFO:coolpuppy:('chr2', 'chr13'): 10\n",
      "INFO:coolpuppy:('chr2', 'chr14'): 20\n",
      "INFO:coolpuppy:('chr2', 'chr15'): 2\n",
      "INFO:coolpuppy:('chr2', 'chr16'): 4\n",
      "INFO:coolpuppy:('chr2', 'chr17'): 1\n",
      "INFO:coolpuppy:('chr2', 'chr19'): 2\n",
      "INFO:coolpuppy:('chr3', 'chr4'): 14\n",
      "INFO:coolpuppy:('chr3', 'chr6'): 6\n",
      "INFO:coolpuppy:('chr3', 'chr7'): 18\n",
      "INFO:coolpuppy:('chr3', 'chr9'): 6\n",
      "INFO:coolpuppy:('chr3', 'chr10'): 6\n",
      "INFO:coolpuppy:('chr3', 'chr11'): 16\n",
      "INFO:coolpuppy:('chr3', 'chr13'): 4\n",
      "INFO:coolpuppy:('chr3', 'chr14'): 8\n",
      "INFO:coolpuppy:('chr3', 'chr16'): 2\n",
      "INFO:coolpuppy:('chr4', 'chr6'): 19\n",
      "INFO:coolpuppy:('chr4', 'chr7'): 63\n",
      "INFO:coolpuppy:('chr4', 'chr9'): 21\n",
      "INFO:coolpuppy:('chr4', 'chr10'): 21\n",
      "INFO:coolpuppy:('chr4', 'chr11'): 50\n",
      "INFO:coolpuppy:('chr4', 'chr13'): 14\n",
      "INFO:coolpuppy:('chr4', 'chr14'): 28\n",
      "INFO:coolpuppy:('chr4', 'chr15'): 4\n",
      "INFO:coolpuppy:('chr4', 'chr16'): 6\n",
      "INFO:coolpuppy:('chr4', 'chr17'): 4\n",
      "INFO:coolpuppy:('chr4', 'chr19'): 8\n",
      "INFO:coolpuppy:('chr6', 'chr7'): 27\n",
      "INFO:coolpuppy:('chr6', 'chr9'): 9\n",
      "INFO:coolpuppy:('chr6', 'chr10'): 9\n",
      "INFO:coolpuppy:('chr6', 'chr11'): 24\n",
      "INFO:coolpuppy:('chr6', 'chr13'): 6\n",
      "INFO:coolpuppy:('chr6', 'chr14'): 12\n",
      "INFO:coolpuppy:('chr6', 'chr15'): 2\n",
      "INFO:coolpuppy:('chr6', 'chr16'): 4\n",
      "INFO:coolpuppy:('chr6', 'chr17'): 2\n",
      "INFO:coolpuppy:('chr6', 'chr19'): 4\n",
      "INFO:coolpuppy:('chr7', 'chr9'): 27\n",
      "INFO:coolpuppy:('chr7', 'chr10'): 24\n",
      "INFO:coolpuppy:('chr7', 'chr11'): 64\n",
      "INFO:coolpuppy:('chr7', 'chr13'): 16\n",
      "INFO:coolpuppy:('chr7', 'chr14'): 32\n",
      "INFO:coolpuppy:('chr7', 'chr15'): 7\n",
      "INFO:coolpuppy:('chr7', 'chr16'): 6\n",
      "INFO:coolpuppy:('chr7', 'chr17'): 3\n",
      "INFO:coolpuppy:('chr7', 'chr19'): 4\n",
      "INFO:coolpuppy:('chr9', 'chr10'): 3\n",
      "INFO:coolpuppy:('chr9', 'chr11'): 24\n",
      "INFO:coolpuppy:('chr9', 'chr13'): 6\n",
      "INFO:coolpuppy:('chr9', 'chr14'): 12\n",
      "INFO:coolpuppy:('chr9', 'chr15'): 3\n",
      "INFO:coolpuppy:('chr9', 'chr16'): 6\n",
      "INFO:coolpuppy:('chr9', 'chr17'): 2\n",
      "INFO:coolpuppy:('chr9', 'chr19'): 6\n",
      "INFO:coolpuppy:('chr10', 'chr11'): 24\n",
      "INFO:coolpuppy:('chr10', 'chr13'): 6\n",
      "INFO:coolpuppy:('chr10', 'chr14'): 12\n",
      "INFO:coolpuppy:('chr10', 'chr15'): 3\n",
      "INFO:coolpuppy:('chr10', 'chr16'): 6\n",
      "INFO:coolpuppy:('chr10', 'chr17'): 3\n",
      "INFO:coolpuppy:('chr10', 'chr19'): 6\n",
      "INFO:coolpuppy:('chr11', 'chr13'): 16\n",
      "INFO:coolpuppy:('chr11', 'chr14'): 31\n",
      "INFO:coolpuppy:('chr11', 'chr15'): 8\n",
      "INFO:coolpuppy:('chr11', 'chr16'): 13\n",
      "INFO:coolpuppy:('chr11', 'chr17'): 8\n",
      "INFO:coolpuppy:('chr11', 'chr19'): 16\n",
      "INFO:coolpuppy:('chr13', 'chr14'): 8\n",
      "INFO:coolpuppy:('chr13', 'chr15'): 2\n",
      "INFO:coolpuppy:('chr13', 'chr16'): 4\n",
      "INFO:coolpuppy:('chr13', 'chr17'): 2\n",
      "INFO:coolpuppy:('chr13', 'chr19'): 4\n",
      "INFO:coolpuppy:('chr14', 'chr15'): 4\n",
      "INFO:coolpuppy:('chr14', 'chr16'): 8\n",
      "INFO:coolpuppy:('chr14', 'chr17'): 4\n",
      "INFO:coolpuppy:('chr14', 'chr19'): 8\n",
      "INFO:coolpuppy:('chr15', 'chr16'): 2\n",
      "INFO:coolpuppy:('chr15', 'chr17'): 1\n",
      "INFO:coolpuppy:('chr15', 'chr19'): 2\n",
      "INFO:coolpuppy:('chr16', 'chr17'): 2\n",
      "INFO:coolpuppy:('chr16', 'chr19'): 4\n",
      "INFO:coolpuppy:('chr17', 'chr19'): 2\n",
      "INFO:coolpuppy:Total number of piled up windows: 1396\n"
     ]
    }
   ],
   "source": [
    "Het_GI_trans_pileup = coolpup.pileup(Het_clr_50kb, GI_50kb_bins_pairs, features_format='bedpe', view_df=view_df,\n",
    "                                     trans = True,\n",
    "                    flank=500000)\n"
   ]
  },
  {
   "cell_type": "code",
   "execution_count": 9,
   "id": "d2893be5",
   "metadata": {},
   "outputs": [
    {
     "data": {
      "text/html": [
       "<div>\n",
       "<style scoped>\n",
       "    .dataframe tbody tr th:only-of-type {\n",
       "        vertical-align: middle;\n",
       "    }\n",
       "\n",
       "    .dataframe tbody tr th {\n",
       "        vertical-align: top;\n",
       "    }\n",
       "\n",
       "    .dataframe thead th {\n",
       "        text-align: right;\n",
       "    }\n",
       "</style>\n",
       "<table border=\"1\" class=\"dataframe\">\n",
       "  <thead>\n",
       "    <tr style=\"text-align: right;\">\n",
       "      <th></th>\n",
       "      <th>group</th>\n",
       "      <th>data</th>\n",
       "      <th>n</th>\n",
       "      <th>num</th>\n",
       "      <th>clr</th>\n",
       "      <th>resolution</th>\n",
       "      <th>flank</th>\n",
       "      <th>rescale_flank</th>\n",
       "      <th>chroms</th>\n",
       "      <th>minshift</th>\n",
       "      <th>...</th>\n",
       "      <th>flip_negative_strand</th>\n",
       "      <th>ignore_diags</th>\n",
       "      <th>store_stripes</th>\n",
       "      <th>nproc</th>\n",
       "      <th>ignore_group_order</th>\n",
       "      <th>by_window</th>\n",
       "      <th>by_strand</th>\n",
       "      <th>by_distance</th>\n",
       "      <th>groupby</th>\n",
       "      <th>cooler</th>\n",
       "    </tr>\n",
       "  </thead>\n",
       "  <tbody>\n",
       "    <tr>\n",
       "      <th>0</th>\n",
       "      <td>all</td>\n",
       "      <td>[[2.662367997844172e-05, 2.7321327534685048e-0...</td>\n",
       "      <td>1396</td>\n",
       "      <td>[[1312.0, 1258.0, 1303.0, 1304.0, 1309.0, 1280...</td>\n",
       "      <td>/lustre/home/acct-medlqian/medlqian-loop3/data...</td>\n",
       "      <td>50000</td>\n",
       "      <td>500000</td>\n",
       "      <td>None</td>\n",
       "      <td>['chr1', 'chr2', 'chr3', 'chr4', 'chr6', 'chr7...</td>\n",
       "      <td>100000</td>\n",
       "      <td>...</td>\n",
       "      <td>False</td>\n",
       "      <td>2</td>\n",
       "      <td>False</td>\n",
       "      <td>1</td>\n",
       "      <td>False</td>\n",
       "      <td>False</td>\n",
       "      <td>False</td>\n",
       "      <td>False</td>\n",
       "      <td>[]</td>\n",
       "      <td>Het.valid_pairs.5000.zoomify</td>\n",
       "    </tr>\n",
       "  </tbody>\n",
       "</table>\n",
       "<p>1 rows × 37 columns</p>\n",
       "</div>"
      ],
      "text/plain": [
       "  group                                               data     n  \\\n",
       "0   all  [[2.662367997844172e-05, 2.7321327534685048e-0...  1396   \n",
       "\n",
       "                                                 num  \\\n",
       "0  [[1312.0, 1258.0, 1303.0, 1304.0, 1309.0, 1280...   \n",
       "\n",
       "                                                 clr  resolution   flank  \\\n",
       "0  /lustre/home/acct-medlqian/medlqian-loop3/data...       50000  500000   \n",
       "\n",
       "  rescale_flank                                             chroms  minshift  \\\n",
       "0          None  ['chr1', 'chr2', 'chr3', 'chr4', 'chr6', 'chr7...    100000   \n",
       "\n",
       "   ...  flip_negative_strand  ignore_diags  store_stripes  nproc  \\\n",
       "0  ...                 False             2          False      1   \n",
       "\n",
       "   ignore_group_order  by_window  by_strand by_distance groupby  \\\n",
       "0               False      False      False       False      []   \n",
       "\n",
       "                         cooler  \n",
       "0  Het.valid_pairs.5000.zoomify  \n",
       "\n",
       "[1 rows x 37 columns]"
      ]
     },
     "metadata": {},
     "output_type": "display_data"
    }
   ],
   "source": [
    "display(Het_GI_trans_pileup)"
   ]
  },
  {
   "cell_type": "code",
   "execution_count": 10,
   "id": "051d6550",
   "metadata": {},
   "outputs": [
    {
     "name": "stdout",
     "output_type": "stream",
     "text": [
      "32713.819249532262\n"
     ]
    }
   ],
   "source": [
    "Het_pixels_50kb = Het_clr_50kb.pixels()[:]\n",
    "Het_bins_50kb = Het_clr_50kb.bins()[:]\n",
    "Het_w_50kb = Het_bins_50kb[\"weight\"].values\n",
    "\n",
    "Het_bin1_w_50kb = Het_w_50kb[Het_pixels_50kb[\"bin1_id\"].values]\n",
    "Het_bin2_w_50kb = Het_w_50kb[Het_pixels_50kb[\"bin2_id\"].values]\n",
    "Het_balanced_count_50kb = Het_pixels_50kb[\"count\"].values * Het_bin1_w_50kb * Het_bin2_w_50kb\n",
    "\n",
    "Het_total_balanced_count_50kb = np.nansum(Het_balanced_count_50kb)\n",
    "print(Het_total_balanced_count_50kb)"
   ]
  },
  {
   "cell_type": "code",
   "execution_count": 11,
   "id": "875c5d69",
   "metadata": {},
   "outputs": [
    {
     "data": {
      "text/plain": [
       "np.float64(4.952239475168342)"
      ]
     },
     "execution_count": 11,
     "metadata": {},
     "output_type": "execute_result"
    }
   ],
   "source": [
    "Het_GI_trans_pileup_rpb_matrix = Het_GI_trans_pileup[\"data\"].iloc[0] / Het_total_balanced_count_50kb * 1e9"
   ]
  },
  {
   "cell_type": "code",
   "execution_count": 13,
   "id": "3ba95f44",
   "metadata": {},
   "outputs": [],
   "source": [
    "def symmetrize_apa(mat):\n",
    "    \"\"\"对矩阵进行8方向翻转并求平均，实现APA对称化\"\"\"\n",
    "    mats = [\n",
    "        mat,\n",
    "        np.flipud(mat),\n",
    "        np.fliplr(mat),\n",
    "        np.transpose(mat),\n",
    "        np.flipud(np.fliplr(mat)),\n",
    "        np.flipud(np.transpose(mat)),\n",
    "        np.fliplr(np.transpose(mat)),\n",
    "        np.flipud(np.fliplr(np.transpose(mat)))\n",
    "    ]\n",
    "    return np.nanmean(mats, axis=0)\n"
   ]
  },
  {
   "cell_type": "code",
   "execution_count": 14,
   "id": "5cdb9881",
   "metadata": {},
   "outputs": [],
   "source": [
    "sym_Het_GI = symmetrize_apa(Het_GI_trans_pileup_rpb_matrix)\n"
   ]
  },
  {
   "cell_type": "code",
   "execution_count": 20,
   "id": "00e1518f",
   "metadata": {},
   "outputs": [
    {
     "data": {
      "text/plain": [
       "np.float64(4.9522394751683425)"
      ]
     },
     "execution_count": 20,
     "metadata": {},
     "output_type": "execute_result"
    }
   ],
   "source": [
    "center = sym_Het_GI.shape[0] // 2\n",
    "np.mean(sym_Het_GI[center - 1:center + 2, center - 1:center + 2])\n"
   ]
  },
  {
   "cell_type": "code",
   "execution_count": 19,
   "id": "3faca23b",
   "metadata": {},
   "outputs": [
    {
     "data": {
      "text/plain": [
       "np.float64(7.113803530443998)"
      ]
     },
     "execution_count": 19,
     "metadata": {},
     "output_type": "execute_result"
    }
   ],
   "source": [
    "def center_vs_edge_zscore(matrix, window=1):\n",
    "    center = matrix.shape[0] // 2\n",
    "    center_region = matrix[center - window:center + window + 1,\n",
    "                           center - window:center + window + 1]\n",
    "    center_mean = np.mean(center_region)\n",
    "\n",
    "    mask = np.ones(matrix.shape, dtype=bool)\n",
    "    mask[center - window:center + window + 1,\n",
    "         center - window:center + window + 1] = False\n",
    "    edge_values = matrix[mask]\n",
    "\n",
    "    edge_mean = np.mean(edge_values)\n",
    "    edge_std = np.std(edge_values)\n",
    "\n",
    "    return (center_mean - edge_mean) / edge_std\n",
    "\n",
    "center_vs_edge_zscore(sym_Het_GI)\n"
   ]
  },
  {
   "cell_type": "code",
   "execution_count": 29,
   "id": "54c5b3a1",
   "metadata": {},
   "outputs": [
    {
     "data": {
      "image/png": "[encoded data removed]",
      "text/plain": [
       "<Figure size 576x576 with 2 Axes>"
      ]
     },
     "metadata": {},
     "output_type": "display_data"
    }
   ],
   "source": [
    "import matplotlib.pyplot as plt\n",
    "from mpl_toolkits.axes_grid1 import make_axes_locatable\n",
    "\n",
    "flank = 500000\n",
    "resolution = 50000\n",
    "\n",
    "fig, ax = plt.subplots(figsize=(6, 6))\n",
    "im = ax.imshow(\n",
    "    sym_Het_GI,\n",
    "    vmax=5,\n",
    "    vmin=0,\n",
    "    cmap='fall',\n",
    "    interpolation='none'\n",
    ")\n",
    "\n",
    "# 去掉 x/y 轴刻度和标签\n",
    "ax.set_xticks([])\n",
    "ax.set_yticks([])\n",
    "ax.set_xlabel('')\n",
    "ax.set_ylabel('')\n",
    "ax.set_title('Het GI 50kb bin trans interaction 1396 pairs')\n",
    "\n",
    "# 创建 colorbar，与主图同高\n",
    "divider = make_axes_locatable(ax)\n",
    "cax = divider.append_axes(\"right\", size=\"5%\", pad=0.05)\n",
    "cbar = fig.colorbar(im, cax=cax)\n",
    "cbar.set_label('contacts per billion')\n",
    "\n",
    "plt.tight_layout()\n",
    "plt.savefig('../plots_v1/sym_Het_GI_trans_interaction_pileup_heatmap.pdf', dpi=300, bbox_inches='tight')\n",
    "plt.show()\n"
   ]
  },
  {
   "cell_type": "code",
   "execution_count": 24,
   "id": "0430dd81",
   "metadata": {},
   "outputs": [],
   "source": [
    "Homo_clr_50kb = cooler.Cooler(f'{data_dir}/Homo/Homo.valid_pairs.5000.zoomify.mcool::resolutions/50000')\n"
   ]
  },
  {
   "cell_type": "code",
   "execution_count": 25,
   "id": "9de335af",
   "metadata": {},
   "outputs": [
    {
     "name": "stderr",
     "output_type": "stream",
     "text": [
      "/lustre/home/acct-medlqian/medlqian-loop3/.conda/envs/coolpup/lib/python3.11/site-packages/coolpuppy/coolpup.py:2156: UserWarning: Ignoring maxdist when using trans\n",
      "  CC = CoordCreator(\n",
      "INFO:coolpuppy:('chr1', 'chr2'): 30\n",
      "INFO:coolpuppy:('chr1', 'chr3'): 12\n",
      "INFO:coolpuppy:('chr1', 'chr4'): 42\n",
      "INFO:coolpuppy:('chr1', 'chr6'): 18\n",
      "INFO:coolpuppy:('chr1', 'chr7'): 54\n",
      "INFO:coolpuppy:('chr1', 'chr9'): 18\n",
      "INFO:coolpuppy:('chr1', 'chr10'): 18\n",
      "INFO:coolpuppy:('chr1', 'chr11'): 48\n",
      "INFO:coolpuppy:('chr1', 'chr13'): 12\n",
      "INFO:coolpuppy:('chr1', 'chr14'): 24\n",
      "INFO:coolpuppy:('chr1', 'chr15'): 6\n",
      "INFO:coolpuppy:('chr1', 'chr16'): 12\n",
      "INFO:coolpuppy:('chr1', 'chr17'): 6\n",
      "INFO:coolpuppy:('chr1', 'chr19'): 12\n",
      "INFO:coolpuppy:('chr2', 'chr3'): 10\n",
      "INFO:coolpuppy:('chr2', 'chr4'): 35\n",
      "INFO:coolpuppy:('chr2', 'chr6'): 15\n",
      "INFO:coolpuppy:('chr2', 'chr7'): 45\n",
      "INFO:coolpuppy:('chr2', 'chr9'): 14\n",
      "INFO:coolpuppy:('chr2', 'chr10'): 15\n",
      "INFO:coolpuppy:('chr2', 'chr11'): 40\n",
      "INFO:coolpuppy:('chr2', 'chr13'): 10\n",
      "INFO:coolpuppy:('chr2', 'chr14'): 20\n",
      "INFO:coolpuppy:('chr2', 'chr15'): 2\n",
      "INFO:coolpuppy:('chr2', 'chr16'): 4\n",
      "INFO:coolpuppy:('chr2', 'chr17'): 1\n",
      "INFO:coolpuppy:('chr2', 'chr19'): 2\n",
      "INFO:coolpuppy:('chr3', 'chr4'): 14\n",
      "INFO:coolpuppy:('chr3', 'chr6'): 6\n",
      "INFO:coolpuppy:('chr3', 'chr7'): 18\n",
      "INFO:coolpuppy:('chr3', 'chr9'): 6\n",
      "INFO:coolpuppy:('chr3', 'chr10'): 6\n",
      "INFO:coolpuppy:('chr3', 'chr11'): 16\n",
      "INFO:coolpuppy:('chr3', 'chr13'): 4\n",
      "INFO:coolpuppy:('chr3', 'chr14'): 8\n",
      "INFO:coolpuppy:('chr3', 'chr16'): 2\n",
      "INFO:coolpuppy:('chr4', 'chr6'): 19\n",
      "INFO:coolpuppy:('chr4', 'chr7'): 63\n",
      "INFO:coolpuppy:('chr4', 'chr9'): 21\n",
      "INFO:coolpuppy:('chr4', 'chr10'): 21\n",
      "INFO:coolpuppy:('chr4', 'chr11'): 50\n",
      "INFO:coolpuppy:('chr4', 'chr13'): 14\n",
      "INFO:coolpuppy:('chr4', 'chr14'): 28\n",
      "INFO:coolpuppy:('chr4', 'chr15'): 4\n",
      "INFO:coolpuppy:('chr4', 'chr16'): 6\n",
      "INFO:coolpuppy:('chr4', 'chr17'): 4\n",
      "INFO:coolpuppy:('chr4', 'chr19'): 8\n",
      "INFO:coolpuppy:('chr6', 'chr7'): 27\n",
      "INFO:coolpuppy:('chr6', 'chr9'): 9\n",
      "INFO:coolpuppy:('chr6', 'chr10'): 9\n",
      "INFO:coolpuppy:('chr6', 'chr11'): 24\n",
      "INFO:coolpuppy:('chr6', 'chr13'): 6\n",
      "INFO:coolpuppy:('chr6', 'chr14'): 12\n",
      "INFO:coolpuppy:('chr6', 'chr15'): 2\n",
      "INFO:coolpuppy:('chr6', 'chr16'): 4\n",
      "INFO:coolpuppy:('chr6', 'chr17'): 2\n",
      "INFO:coolpuppy:('chr6', 'chr19'): 4\n",
      "INFO:coolpuppy:('chr7', 'chr9'): 27\n",
      "INFO:coolpuppy:('chr7', 'chr10'): 24\n",
      "INFO:coolpuppy:('chr7', 'chr11'): 64\n",
      "INFO:coolpuppy:('chr7', 'chr13'): 16\n",
      "INFO:coolpuppy:('chr7', 'chr14'): 32\n",
      "INFO:coolpuppy:('chr7', 'chr15'): 7\n",
      "INFO:coolpuppy:('chr7', 'chr16'): 6\n",
      "INFO:coolpuppy:('chr7', 'chr17'): 3\n",
      "INFO:coolpuppy:('chr7', 'chr19'): 4\n",
      "INFO:coolpuppy:('chr9', 'chr10'): 3\n",
      "INFO:coolpuppy:('chr9', 'chr11'): 24\n",
      "INFO:coolpuppy:('chr9', 'chr13'): 6\n",
      "INFO:coolpuppy:('chr9', 'chr14'): 12\n",
      "INFO:coolpuppy:('chr9', 'chr15'): 3\n",
      "INFO:coolpuppy:('chr9', 'chr16'): 6\n",
      "INFO:coolpuppy:('chr9', 'chr17'): 2\n",
      "INFO:coolpuppy:('chr9', 'chr19'): 6\n",
      "INFO:coolpuppy:('chr10', 'chr11'): 24\n",
      "INFO:coolpuppy:('chr10', 'chr13'): 6\n",
      "INFO:coolpuppy:('chr10', 'chr14'): 12\n",
      "INFO:coolpuppy:('chr10', 'chr15'): 3\n",
      "INFO:coolpuppy:('chr10', 'chr16'): 6\n",
      "INFO:coolpuppy:('chr10', 'chr17'): 3\n",
      "INFO:coolpuppy:('chr10', 'chr19'): 6\n",
      "INFO:coolpuppy:('chr11', 'chr13'): 16\n",
      "INFO:coolpuppy:('chr11', 'chr14'): 31\n",
      "INFO:coolpuppy:('chr11', 'chr15'): 8\n",
      "INFO:coolpuppy:('chr11', 'chr16'): 13\n",
      "INFO:coolpuppy:('chr11', 'chr17'): 8\n",
      "INFO:coolpuppy:('chr11', 'chr19'): 16\n",
      "INFO:coolpuppy:('chr13', 'chr14'): 8\n",
      "INFO:coolpuppy:('chr13', 'chr15'): 2\n",
      "INFO:coolpuppy:('chr13', 'chr16'): 4\n",
      "INFO:coolpuppy:('chr13', 'chr17'): 2\n",
      "INFO:coolpuppy:('chr13', 'chr19'): 4\n",
      "INFO:coolpuppy:('chr14', 'chr15'): 4\n",
      "INFO:coolpuppy:('chr14', 'chr16'): 8\n",
      "INFO:coolpuppy:('chr14', 'chr17'): 4\n",
      "INFO:coolpuppy:('chr14', 'chr19'): 8\n",
      "INFO:coolpuppy:('chr15', 'chr16'): 2\n",
      "INFO:coolpuppy:('chr15', 'chr17'): 1\n",
      "INFO:coolpuppy:('chr15', 'chr19'): 2\n",
      "INFO:coolpuppy:('chr16', 'chr17'): 2\n",
      "INFO:coolpuppy:('chr16', 'chr19'): 4\n",
      "INFO:coolpuppy:('chr17', 'chr19'): 2\n",
      "INFO:coolpuppy:Total number of piled up windows: 1396\n"
     ]
    }
   ],
   "source": [
    "Homo_GI_trans_pileup = coolpup.pileup(Homo_clr_50kb, GI_50kb_bins_pairs, features_format='bedpe', view_df=view_df,\n",
    "                                     trans = True,\n",
    "                    flank=500000)\n"
   ]
  },
  {
   "cell_type": "code",
   "execution_count": 26,
   "id": "c0399552",
   "metadata": {},
   "outputs": [
    {
     "data": {
      "text/html": [
       "<div>\n",
       "<style scoped>\n",
       "    .dataframe tbody tr th:only-of-type {\n",
       "        vertical-align: middle;\n",
       "    }\n",
       "\n",
       "    .dataframe tbody tr th {\n",
       "        vertical-align: top;\n",
       "    }\n",
       "\n",
       "    .dataframe thead th {\n",
       "        text-align: right;\n",
       "    }\n",
       "</style>\n",
       "<table border=\"1\" class=\"dataframe\">\n",
       "  <thead>\n",
       "    <tr style=\"text-align: right;\">\n",
       "      <th></th>\n",
       "      <th>group</th>\n",
       "      <th>data</th>\n",
       "      <th>n</th>\n",
       "      <th>num</th>\n",
       "      <th>clr</th>\n",
       "      <th>resolution</th>\n",
       "      <th>flank</th>\n",
       "      <th>rescale_flank</th>\n",
       "      <th>chroms</th>\n",
       "      <th>minshift</th>\n",
       "      <th>...</th>\n",
       "      <th>flip_negative_strand</th>\n",
       "      <th>ignore_diags</th>\n",
       "      <th>store_stripes</th>\n",
       "      <th>nproc</th>\n",
       "      <th>ignore_group_order</th>\n",
       "      <th>by_window</th>\n",
       "      <th>by_strand</th>\n",
       "      <th>by_distance</th>\n",
       "      <th>groupby</th>\n",
       "      <th>cooler</th>\n",
       "    </tr>\n",
       "  </thead>\n",
       "  <tbody>\n",
       "    <tr>\n",
       "      <th>0</th>\n",
       "      <td>all</td>\n",
       "      <td>[[1.567265549558171e-05, 1.6231184061266565e-0...</td>\n",
       "      <td>1396</td>\n",
       "      <td>[[1327.0, 1285.0, 1298.0, 1299.0, 1304.0, 1296...</td>\n",
       "      <td>/lustre/home/acct-medlqian/medlqian-loop3/data...</td>\n",
       "      <td>50000</td>\n",
       "      <td>500000</td>\n",
       "      <td>None</td>\n",
       "      <td>['chr1', 'chr2', 'chr3', 'chr4', 'chr6', 'chr7...</td>\n",
       "      <td>100000</td>\n",
       "      <td>...</td>\n",
       "      <td>False</td>\n",
       "      <td>2</td>\n",
       "      <td>False</td>\n",
       "      <td>1</td>\n",
       "      <td>False</td>\n",
       "      <td>False</td>\n",
       "      <td>False</td>\n",
       "      <td>False</td>\n",
       "      <td>[]</td>\n",
       "      <td>Homo.valid_pairs.5000.zoomify</td>\n",
       "    </tr>\n",
       "  </tbody>\n",
       "</table>\n",
       "<p>1 rows × 37 columns</p>\n",
       "</div>"
      ],
      "text/plain": [
       "  group                                               data     n  \\\n",
       "0   all  [[1.567265549558171e-05, 1.6231184061266565e-0...  1396   \n",
       "\n",
       "                                                 num  \\\n",
       "0  [[1327.0, 1285.0, 1298.0, 1299.0, 1304.0, 1296...   \n",
       "\n",
       "                                                 clr  resolution   flank  \\\n",
       "0  /lustre/home/acct-medlqian/medlqian-loop3/data...       50000  500000   \n",
       "\n",
       "  rescale_flank                                             chroms  minshift  \\\n",
       "0          None  ['chr1', 'chr2', 'chr3', 'chr4', 'chr6', 'chr7...    100000   \n",
       "\n",
       "   ...  flip_negative_strand  ignore_diags  store_stripes  nproc  \\\n",
       "0  ...                 False             2          False      1   \n",
       "\n",
       "   ignore_group_order  by_window  by_strand by_distance groupby  \\\n",
       "0               False      False      False       False      []   \n",
       "\n",
       "                          cooler  \n",
       "0  Homo.valid_pairs.5000.zoomify  \n",
       "\n",
       "[1 rows x 37 columns]"
      ]
     },
     "metadata": {},
     "output_type": "display_data"
    }
   ],
   "source": [
    "display(Homo_GI_trans_pileup)"
   ]
  },
  {
   "cell_type": "code",
   "execution_count": 27,
   "id": "d1aca6e0",
   "metadata": {},
   "outputs": [
    {
     "name": "stdout",
     "output_type": "stream",
     "text": [
      "33178.90407152158\n"
     ]
    }
   ],
   "source": [
    "Homo_pixels_50kb = Homo_clr_50kb.pixels()[:]\n",
    "Homo_bins_50kb = Homo_clr_50kb.bins()[:]\n",
    "Homo_w_50kb = Homo_bins_50kb[\"weight\"].values\n",
    "\n",
    "Homo_bin1_w_50kb = Homo_w_50kb[Homo_pixels_50kb[\"bin1_id\"].values]\n",
    "Homo_bin2_w_50kb = Homo_w_50kb[Homo_pixels_50kb[\"bin2_id\"].values]\n",
    "Homo_balanced_count_50kb = Homo_pixels_50kb[\"count\"].values * Homo_bin1_w_50kb * Homo_bin2_w_50kb\n",
    "\n",
    "Homo_total_balanced_count_50kb = np.nansum(Homo_balanced_count_50kb)\n",
    "print(Homo_total_balanced_count_50kb)"
   ]
  },
  {
   "cell_type": "code",
   "execution_count": 30,
   "id": "81bd46cf",
   "metadata": {},
   "outputs": [],
   "source": [
    "Homo_GI_trans_pileup_rpb_matrix = Homo_GI_trans_pileup[\"data\"].iloc[0] / Homo_total_balanced_count_50kb * 1e9"
   ]
  },
  {
   "cell_type": "code",
   "execution_count": 32,
   "id": "87288194",
   "metadata": {},
   "outputs": [
    {
     "data": {
      "text/plain": [
       "np.float64(0.9268398488015275)"
      ]
     },
     "execution_count": 32,
     "metadata": {},
     "output_type": "execute_result"
    }
   ],
   "source": [
    "sym_Homo_GI = symmetrize_apa(Homo_GI_trans_pileup_rpb_matrix)\n",
    "center = sym_Homo_GI.shape[0] // 2\n",
    "np.mean(sym_Homo_GI[center - 1:center + 2, center - 1:center + 2])\n"
   ]
  },
  {
   "cell_type": "code",
   "execution_count": 33,
   "id": "6b0ad31e",
   "metadata": {},
   "outputs": [
    {
     "data": {
      "text/plain": [
       "np.float64(4.13036201412392)"
      ]
     },
     "execution_count": 33,
     "metadata": {},
     "output_type": "execute_result"
    }
   ],
   "source": [
    "center_vs_edge_zscore(sym_Homo_GI)\n"
   ]
  },
  {
   "cell_type": "code",
   "execution_count": 35,
   "id": "ce0e0d21",
   "metadata": {},
   "outputs": [
    {
     "data": {
      "image/png": "[encoded data removed]",
      "text/plain": [
       "<Figure size 576x576 with 2 Axes>"
      ]
     },
     "metadata": {},
     "output_type": "display_data"
    }
   ],
   "source": [
    "import matplotlib.pyplot as plt\n",
    "from mpl_toolkits.axes_grid1 import make_axes_locatable\n",
    "\n",
    "flank = 500000\n",
    "resolution = 50000\n",
    "\n",
    "fig, ax = plt.subplots(figsize=(6, 6))\n",
    "im = ax.imshow(\n",
    "    sym_Homo_GI,\n",
    "    vmax=5,\n",
    "    vmin=0,\n",
    "    cmap='fall',\n",
    "    interpolation='none'\n",
    ")\n",
    "\n",
    "# 去掉 x/y 轴刻度和标签\n",
    "ax.set_xticks([])\n",
    "ax.set_yticks([])\n",
    "ax.set_xlabel('')\n",
    "ax.set_ylabel('')\n",
    "ax.set_title('Homo GI 50kb bin trans interaction 1396 pairs')\n",
    "\n",
    "# 创建 colorbar，与主图同高\n",
    "divider = make_axes_locatable(ax)\n",
    "cax = divider.append_axes(\"right\", size=\"5%\", pad=0.05)\n",
    "cbar = fig.colorbar(im, cax=cax)\n",
    "cbar.set_label('contacts per billion')\n",
    "\n",
    "plt.tight_layout()\n",
    "plt.savefig('../plots_v1/sym_Homo_GI_trans_interaction_pileup_heatmap.pdf', dpi=300, bbox_inches='tight')\n",
    "plt.show()\n"
   ]
  },
  {
   "cell_type": "code",
   "execution_count": null,
   "id": "1142aec8",
   "metadata": {},
   "outputs": [],
   "source": []
  }
 ],
 "metadata": {
  "kernelspec": {
   "display_name": "coolpuppy_env",
   "language": "python",
   "name": "coolpup"
  },
  "language_info": {
   "codemirror_mode": {
    "name": "ipython",
    "version": 3
   },
   "file_extension": ".py",
   "mimetype": "text/x-python",
   "name": "python",
   "nbconvert_exporter": "python",
   "pygments_lexer": "ipython3",
   "version": "3.11.13"
  }
 },
 "nbformat": 4,
 "nbformat_minor": 5
}
